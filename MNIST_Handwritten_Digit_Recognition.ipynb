{
  "nbformat": 4,
  "nbformat_minor": 0,
  "metadata": {
    "colab": {
      "name": "MNIST Handwritten Digit Recognition",
      "provenance": [],
      "collapsed_sections": [
        "elu3248t2FdY"
      ],
      "toc_visible": true
    },
    "kernelspec": {
      "name": "python3",
      "display_name": "Python 3"
    }
  },
  "cells": [
    {
      "cell_type": "code",
      "metadata": {
        "id": "uy74PS4qsYDu",
        "colab_type": "code",
        "outputId": "758c7049-fb6b-4c39-8b2a-6542e1f17f13",
        "colab": {
          "base_uri": "https://localhost:8080/",
          "height": 34
        }
      },
      "source": [
        "from google.colab import drive\n",
        "drive.mount(\"/content/drive\", force_remount=True)"
      ],
      "execution_count": 15,
      "outputs": [
        {
          "output_type": "stream",
          "text": [
            "Mounted at /content/drive\n"
          ],
          "name": "stdout"
        }
      ]
    },
    {
      "cell_type": "code",
      "metadata": {
        "id": "iET9RExqtEXW",
        "colab_type": "code",
        "colab": {}
      },
      "source": [
        "import numpy as np\n",
        "\n",
        "import matplotlib.pyplot as plt\n",
        "from matplotlib import cm\n",
        "\n",
        "import torch\n",
        "import torch.nn as nn\n",
        "import torch.nn.functional as F\n",
        "import torch.utils.data\n",
        "from torch.autograd import Variable\n",
        "import torch.optim as optim\n",
        "\n",
        "from sklearn.model_selection import train_test_split"
      ],
      "execution_count": 0,
      "outputs": []
    },
    {
      "cell_type": "code",
      "metadata": {
        "id": "0X-cqiqrteZk",
        "colab_type": "code",
        "outputId": "1ab03be6-6f49-47a5-8362-ce3e0816c01a",
        "colab": {
          "base_uri": "https://localhost:8080/",
          "height": 332
        }
      },
      "source": [
        "with np.load('prediction-challenge-01-data.npz') as fh:\n",
        "    data_x = fh['data_x']\n",
        "    data_y = fh['data_y']\n",
        "    test_x = fh['test_x']\n",
        "\n",
        "# TRAINING DATA: INPUT (x) AND OUTPUT (y)\n",
        "# 1. INDEX: IMAGE SERIAL NUMBER\n",
        "# 2. INDEX: COLOR CHANNEL\n",
        "# 3/4. INDEX: PIXEL VALUE\n",
        "print(data_x.shape, data_x.dtype)\n",
        "print(data_y.shape, data_y.dtype)\n",
        "\n",
        "# TEST DATA: INPUT (x) ONLY\n",
        "print(test_x.shape, test_x.dtype)\n",
        "\n",
        "\n",
        "plt.imshow(data_x[0, 0])\n",
        "plt.title(data_y[0])\n",
        "plt.show()"
      ],
      "execution_count": 0,
      "outputs": [
        {
          "output_type": "stream",
          "text": [
            "(20000, 1, 28, 28) float32\n",
            "(20000,) int64\n",
            "(2000, 1, 28, 28) float32\n"
          ],
          "name": "stdout"
        },
        {
          "output_type": "display_data",
          "data": {
            "image/png": "[encoded data removed]",
            "text/plain": [
              "<Figure size 432x288 with 1 Axes>"
            ]
          },
          "metadata": {
            "tags": [],
            "needs_background": "light"
          }
        }
      ]
    },
    {
      "cell_type": "code",
      "metadata": {
        "id": "qQutB0fVtiSx",
        "colab_type": "code",
        "colab": {}
      },
      "source": [
        "X_train, X_val, y_train, y_val = train_test_split(data_x, data_y, test_size=0.1)"
      ],
      "execution_count": 0,
      "outputs": []
    },
    {
      "cell_type": "code",
      "metadata": {
        "id": "RvMMYUgZtmlz",
        "colab_type": "code",
        "colab": {}
      },
      "source": [
        "BATCH_SIZE = 20\n",
        "\n",
        "torch_X_train = torch.from_numpy(X_train)\n",
        "torch_y_train = torch.from_numpy(y_train).type(torch.LongTensor)\n",
        "\n",
        "torch_X_val = torch.from_numpy(X_val)\n",
        "torch_y_val = torch.from_numpy(y_val).type(torch.LongTensor)\n",
        "\n",
        "train = torch.utils.data.TensorDataset(torch_X_train,torch_y_train)\n",
        "validate = torch.utils.data.TensorDataset(torch_X_val,torch_y_val)\n",
        "\n",
        "train_loader = torch.utils.data.DataLoader(train, batch_size = BATCH_SIZE, shuffle = False)\n",
        "val_loader = torch.utils.data.DataLoader(validate, batch_size = BATCH_SIZE, shuffle = False)"
      ],
      "execution_count": 0,
      "outputs": []
    },
    {
      "cell_type": "markdown",
      "metadata": {
        "id": "md-FTO_118pR",
        "colab_type": "text"
      },
      "source": [
        "# 3 hidden layers"
      ]
    },
    {
      "cell_type": "code",
      "metadata": {
        "id": "soAJrX0Ttxo1",
        "colab_type": "code",
        "outputId": "22c33971-ca9a-4375-c777-8c8816eaa6b9",
        "colab": {
          "base_uri": "https://localhost:8080/",
          "height": 102
        }
      },
      "source": [
        "class Net(nn.Module):\n",
        "    def __init__(self):\n",
        "        super(Net, self).__init__()\n",
        "        self.fc1 = nn.Linear(28*28, 64)\n",
        "        self.fc2 = nn.Linear(64, 64)\n",
        "        self.fc3 = nn.Linear(64, 10)\n",
        "\n",
        "    def forward(self, x):\n",
        "        x = F.relu(self.fc1(x))\n",
        "        x = F.relu(self.fc2(x))\n",
        "        x = self.fc3(x)\n",
        "        return F.log_softmax(x, dim=1) \n",
        "\n",
        "net = Net()\n",
        "print(net)  "
      ],
      "execution_count": 0,
      "outputs": [
        {
          "output_type": "stream",
          "text": [
            "Net(\n",
            "  (fc1): Linear(in_features=784, out_features=64, bias=True)\n",
            "  (fc2): Linear(in_features=64, out_features=64, bias=True)\n",
            "  (fc3): Linear(in_features=64, out_features=10, bias=True)\n",
            ")\n"
          ],
          "name": "stdout"
        }
      ]
    },
    {
      "cell_type": "code",
      "metadata": {
        "id": "sNYabTWav1P3",
        "colab_type": "code",
        "outputId": "a3671bda-1334-456e-dc45-765f13eaa264",
        "colab": {
          "base_uri": "https://localhost:8080/",
          "height": 102
        }
      },
      "source": [
        "loss_criterion = nn.CrossEntropyLoss()\n",
        "optimizer = optim.Adam(net.parameters(), lr=0.005)\n",
        "\n",
        "net.train() # prep model for training\n",
        "\n",
        "for epoch in range(5): # cross validation\n",
        "    for data in train_loader:  \n",
        "        X, y = data  \n",
        "        net.zero_grad()  \n",
        "        output = net(X.view(-1,784))  \n",
        "        loss = loss_criterion(output, y)  \n",
        "        loss.backward()  \n",
        "        optimizer.step()  \n",
        "    print(loss) "
      ],
      "execution_count": 0,
      "outputs": [
        {
          "output_type": "stream",
          "text": [
            "tensor(0.1577, grad_fn=<NllLossBackward>)\n",
            "tensor(0.4224, grad_fn=<NllLossBackward>)\n",
            "tensor(0.4056, grad_fn=<NllLossBackward>)\n",
            "tensor(0.3843, grad_fn=<NllLossBackward>)\n",
            "tensor(0.7803, grad_fn=<NllLossBackward>)\n"
          ],
          "name": "stdout"
        }
      ]
    },
    {
      "cell_type": "code",
      "metadata": {
        "id": "9HWDII44wzUj",
        "colab_type": "code",
        "outputId": "70613d07-c392-4f35-854b-faedcbb33101",
        "colab": {
          "base_uri": "https://localhost:8080/",
          "height": 34
        }
      },
      "source": [
        "correct = 0\n",
        "total = 0\n",
        "\n",
        "with torch.no_grad():\n",
        "    for data in val_loader:\n",
        "        X, y = data\n",
        "        output = net(X.view(-1,784))\n",
        "        \n",
        "        for idx, i in enumerate(output):\n",
        "          if torch.argmax(i) == y[idx]:\n",
        "            correct += 1\n",
        "          total += 1\n",
        "\n",
        "print(\"Accuracy: \", round(correct/total, 2))"
      ],
      "execution_count": 0,
      "outputs": [
        {
          "output_type": "stream",
          "text": [
            "Accuracy:  0.88\n"
          ],
          "name": "stdout"
        }
      ]
    },
    {
      "cell_type": "markdown",
      "metadata": {
        "id": "elu3248t2FdY",
        "colab_type": "text"
      },
      "source": [
        "# 4 hidden layers"
      ]
    },
    {
      "cell_type": "code",
      "metadata": {
        "colab_type": "code",
        "outputId": "5d4eef41-d455-41b9-ca89-e4e1516006e9",
        "id": "gBPiXtVi2Ete",
        "colab": {
          "base_uri": "https://localhost:8080/",
          "height": 119
        }
      },
      "source": [
        "class Net(nn.Module):\n",
        "    def __init__(self):\n",
        "        super(Net, self).__init__()\n",
        "        self.fc1 = nn.Linear(28*28, 64)\n",
        "        self.fc2 = nn.Linear(64, 64)\n",
        "        self.fc3 = nn.Linear(64, 64)\n",
        "        self.fc4 = nn.Linear(64, 10)\n",
        "\n",
        "    def forward(self, x):\n",
        "        x = F.relu(self.fc1(x))\n",
        "        x = F.relu(self.fc2(x))\n",
        "        x = F.relu(self.fc3(x))\n",
        "        x = self.fc4(x)\n",
        "        return F.log_softmax(x, dim=1) \n",
        "\n",
        "net = Net()\n",
        "print(net)  "
      ],
      "execution_count": 0,
      "outputs": [
        {
          "output_type": "stream",
          "text": [
            "Net(\n",
            "  (fc1): Linear(in_features=784, out_features=64, bias=True)\n",
            "  (fc2): Linear(in_features=64, out_features=64, bias=True)\n",
            "  (fc3): Linear(in_features=64, out_features=64, bias=True)\n",
            "  (fc4): Linear(in_features=64, out_features=10, bias=True)\n",
            ")\n"
          ],
          "name": "stdout"
        }
      ]
    },
    {
      "cell_type": "code",
      "metadata": {
        "colab_type": "code",
        "outputId": "952ea284-fe1d-42b5-d26b-22583e461348",
        "id": "tLB-4iW92Eth",
        "colab": {
          "base_uri": "https://localhost:8080/"
        }
      },
      "source": [
        "loss_criterion = nn.CrossEntropyLoss()\n",
        "optimizer = optim.Adam(net.parameters(), lr=0.005)\n",
        "\n",
        "net.train() # prep model for training\n",
        "\n",
        "for epoch in range(5): # cross validation\n",
        "    for data in train_loader:  \n",
        "        X, y = data  \n",
        "        net.zero_grad()  \n",
        "        output = net(X.view(-1,784))  \n",
        "        loss = loss_criterion(output, y)  \n",
        "        loss.backward()  \n",
        "        optimizer.step()  \n",
        "    print(loss) "
      ],
      "execution_count": 0,
      "outputs": [
        {
          "output_type": "stream",
          "text": [
            "tensor(0.3502, grad_fn=<NllLossBackward>)\n",
            "tensor(0.2833, grad_fn=<NllLossBackward>)\n",
            "tensor(0.1229, grad_fn=<NllLossBackward>)\n",
            "tensor(0.2129, grad_fn=<NllLossBackward>)\n",
            "tensor(0.0311, grad_fn=<NllLossBackward>)\n"
          ],
          "name": "stdout"
        }
      ]
    },
    {
      "cell_type": "code",
      "metadata": {
        "colab_type": "code",
        "outputId": "3e2afefe-8b67-43b9-9b11-fd7e0be9d8b1",
        "id": "xGNYOfOf2Etj",
        "colab": {
          "base_uri": "https://localhost:8080/",
          "height": 34
        }
      },
      "source": [
        "correct = 0\n",
        "total = 0\n",
        "\n",
        "with torch.no_grad():\n",
        "    for data in val_loader:\n",
        "        X, y = data\n",
        "        output = net(X.view(-1,784))\n",
        "        \n",
        "        for idx, i in enumerate(output):\n",
        "          if torch.argmax(i) == y[idx]:\n",
        "            correct += 1\n",
        "          total += 1\n",
        "\n",
        "print(\"Accuracy: \", round(correct/total, 3))"
      ],
      "execution_count": 0,
      "outputs": [
        {
          "output_type": "stream",
          "text": [
            "Accuracy:  0.901\n"
          ],
          "name": "stdout"
        }
      ]
    },
    {
      "cell_type": "code",
      "metadata": {
        "id": "WMfg74JY20Zm",
        "colab_type": "code",
        "outputId": "180ce5a0-01f3-4ac4-98d4-536569899251",
        "colab": {
          "base_uri": "https://localhost:8080/",
          "height": 52
        }
      },
      "source": [
        "import numpy as np\n",
        "\n",
        "prediction = net(torch.from_numpy(test_x).view(-1,784))\n",
        "\n",
        "prediction_numpy = prediction.cpu().detach().numpy()\n",
        "\n",
        "final_prediction = prediction_numpy.argmax(axis=1)\n",
        "\n",
        "print(final_prediction.shape)\n",
        "print(final_prediction.ndim)\n",
        "\n",
        "\n",
        "\n",
        "# MAKE SURE THAT YOU HAVE THE RIGHT FORMAT\n",
        "assert final_prediction.ndim == 1\n",
        "assert final_prediction.shape[0] == 2000\n",
        "\n",
        "# AND SAVE EXACTLY AS SHOWN BELOW\n",
        "np.save('prediction.npy', final_prediction)"
      ],
      "execution_count": 0,
      "outputs": [
        {
          "output_type": "stream",
          "text": [
            "(2000,)\n",
            "1\n"
          ],
          "name": "stdout"
        }
      ]
    },
    {
      "cell_type": "markdown",
      "metadata": {
        "colab_type": "text",
        "id": "oDNTMabz8n3y"
      },
      "source": [
        "# 5 hidden layers"
      ]
    },
    {
      "cell_type": "code",
      "metadata": {
        "colab_type": "code",
        "outputId": "a5855f98-4a2c-41dc-d887-23a9167e6911",
        "id": "beLGbmWf8n30",
        "colab": {
          "base_uri": "https://localhost:8080/",
          "height": 140
        }
      },
      "source": [
        "class Net(nn.Module):\n",
        "    def __init__(self):\n",
        "        super(Net, self).__init__()\n",
        "        self.fc1 = nn.Linear(28*28, 64)\n",
        "        self.fc2 = nn.Linear(64, 64)\n",
        "        self.fc3 = nn.Linear(64, 64)\n",
        "        self.fc4 = nn.Linear(64, 64)\n",
        "        self.fc5 = nn.Linear(64, 10)\n",
        "\n",
        "    def forward(self, x):\n",
        "        x = F.relu(self.fc1(x))\n",
        "        x = F.relu(self.fc2(x))\n",
        "        x = F.relu(self.fc3(x))\n",
        "        x = F.relu(self.fc4(x))\n",
        "        x = self.fc5(x)\n",
        "        return F.log_softmax(x, dim=1) \n",
        "\n",
        "net = Net()\n",
        "print(net)  "
      ],
      "execution_count": 0,
      "outputs": [
        {
          "output_type": "stream",
          "text": [
            "Net(\n",
            "  (fc1): Linear(in_features=784, out_features=64, bias=True)\n",
            "  (fc2): Linear(in_features=64, out_features=64, bias=True)\n",
            "  (fc3): Linear(in_features=64, out_features=64, bias=True)\n",
            "  (fc4): Linear(in_features=64, out_features=64, bias=True)\n",
            "  (fc5): Linear(in_features=64, out_features=10, bias=True)\n",
            ")\n"
          ],
          "name": "stdout"
        }
      ]
    },
    {
      "cell_type": "code",
      "metadata": {
        "colab_type": "code",
        "outputId": "2550944b-253b-4d81-a216-44a3bf5e8b9b",
        "id": "GUGgGm_-8n35",
        "colab": {
          "base_uri": "https://localhost:8080/",
          "height": 105
        }
      },
      "source": [
        "loss_criterion = nn.CrossEntropyLoss()\n",
        "optimizer = optim.Adam(net.parameters(), lr=0.005)\n",
        "\n",
        "net.train() # prep model for training\n",
        "\n",
        "for epoch in range(5): # cross validation\n",
        "    for data in train_loader:  \n",
        "        X, y = data  \n",
        "        net.zero_grad()  \n",
        "        output = net(X.view(-1,784))  \n",
        "        loss = loss_criterion(output, y)  \n",
        "        loss.backward()  \n",
        "        optimizer.step()  \n",
        "    print(loss) "
      ],
      "execution_count": 0,
      "outputs": [
        {
          "output_type": "stream",
          "text": [
            "tensor(0.4084, grad_fn=<NllLossBackward>)\n",
            "tensor(0.3104, grad_fn=<NllLossBackward>)\n",
            "tensor(0.4893, grad_fn=<NllLossBackward>)\n",
            "tensor(0.1612, grad_fn=<NllLossBackward>)\n",
            "tensor(0.1929, grad_fn=<NllLossBackward>)\n"
          ],
          "name": "stdout"
        }
      ]
    },
    {
      "cell_type": "code",
      "metadata": {
        "colab_type": "code",
        "outputId": "1f901f82-30ec-43a7-d633-d70ce8f02b70",
        "id": "96AmBS7e8n38",
        "colab": {
          "base_uri": "https://localhost:8080/",
          "height": 34
        }
      },
      "source": [
        "correct = 0\n",
        "total = 0\n",
        "\n",
        "with torch.no_grad():\n",
        "    for data in val_loader:\n",
        "        X, y = data\n",
        "        output = net(X.view(-1,784))\n",
        "        \n",
        "        for idx, i in enumerate(output):\n",
        "          if torch.argmax(i) == y[idx]:\n",
        "            correct += 1\n",
        "          total += 1\n",
        "\n",
        "print(\"Accuracy: \", round(correct/total, 3))"
      ],
      "execution_count": 0,
      "outputs": [
        {
          "output_type": "stream",
          "text": [
            "Accuracy:  0.903\n"
          ],
          "name": "stdout"
        }
      ]
    }
  ]
}